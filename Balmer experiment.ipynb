{
 "cells": [
  {
   "cell_type": "markdown",
   "id": "8ed47715",
   "metadata": {},
   "source": [
    "##### Group Members:\n",
    "* Amir Hossein Movahedi\n",
    "* Saleh al-Hossein Zorrieh"
   ]
  },
  {
   "cell_type": "markdown",
   "id": "bd7ed41d",
   "metadata": {},
   "source": [
    "# Experiment Details:"
   ]
  },
  {
   "cell_type": "markdown",
   "id": "4d5f447d",
   "metadata": {},
   "source": [
    "## Name: "
   ]
  },
  {
   "cell_type": "markdown",
   "id": "5e2011ba",
   "metadata": {},
   "source": [
    " **Balmer Experiment**"
   ]
  },
  {
   "cell_type": "markdown",
   "id": "234393e4",
   "metadata": {},
   "source": [
    "## Purpose:"
   ]
  },
  {
   "cell_type": "markdown",
   "id": "24242fcf",
   "metadata": {},
   "source": [
    "**Determining the wavelength of visible lights in the hydrogen atom spectrum**"
   ]
  },
  {
   "cell_type": "markdown",
   "id": "dc016b51",
   "metadata": {},
   "source": [
    "## Equipments"
   ]
  },
  {
   "cell_type": "markdown",
   "id": "7580afc8",
   "metadata": {},
   "source": [
    "* Power supply with high voltage: to provide the energy of Hydrogen lamp \n",
    "* Hydrogen lamp : sourse of light\n",
    "* Viewing screen\n",
    "* Table with Adjudtable height \n",
    "* Net with 600 lin per mm\n",
    "* Lens parallelizer\n",
    "* Lens imgeger\n",
    "* Variable slit\n",
    "* Net keeper\n"
   ]
  },
  {
   "cell_type": "markdown",
   "id": "86bbcfcf",
   "metadata": {},
   "source": [
    "# Introduction"
   ]
  },
  {
   "cell_type": "markdown",
   "id": "c9c266e6",
   "metadata": {},
   "source": [
    "1. Theoretical formula:   \n",
    "\n",
    "\\begin{equation}\n",
    "\\frac{1}{\\lambda} = R_{y} (\\frac{1}{n_{1}^{2}} - \\frac{1}{n_{2}^{2}})\n",
    "\\end{equation}\n",
    "\n",
    "\\begin{equation}\n",
    "R_{y} = (1.096)10^{7}\n",
    "\\end{equation}\n",
    "\n",
    "**Error for yhe theoretical is zero**\n",
    "\n",
    "2. Experimental formula:  \n",
    "\n",
    "\\begin{equation}\n",
    "       \\frac{1}{\\lambda} \\sin{\\theta} = m \\lambda\n",
    "\\end{equation}\n",
    "\n",
    "\\begin{equation}\n",
    "       \\lambda  = \\frac{d}{mn\\sqrt{d^{2}+a^{2}}}\n",
    "\\end{equation}\n",
    "\n",
    "1. n = 1 rate of Diffraction\n",
    "2. m = 600 (mm) \n",
    "3. d = distance between light that make in the screen \n",
    "4. a = distance between net to screen\n",
    "\n",
    "**Eroor :**\n",
    "\n",
    "\\begin{equation}\n",
    "        \\lambda  = \\frac{d}{mn\\sqrt{d^{2}+a^{2}}}\n",
    "\\end{equation}\n",
    "\n",
    "\\begin{equation}\n",
    "        \\frac{d\\lambda}{\\lambda} = \\frac{d d}{d} + \\frac{d mn}{mn} + \\frac{d\\sqrt{d^{2}+a^{2}}}{\\sqrt{d^{2}+a^{2}}}\n",
    "\\end{equation}\n",
    "\n",
    "\\begin{equation}\n",
    "        \\frac{\\Delta\\lambda}{\\lambda} = \\frac{\\Delta d}{d} + \\frac{\\Delta mn}{mn} + \\frac{\\Delta\\sqrt{d^{2}+a^{2}}}{\\sqrt{d^{2}+a^{2}}}\n",
    "\\end{equation}\n",
    "\n",
    "\\begin{equation}\n",
    "        \\frac{\\Delta\\lambda}{\\lambda} = \\frac{\\Delta d}{d} + \\frac{\\Delta n + \\Delta m}{mn} + \\frac{d \\Delta d + a \\Delta a}{d^{2}+a^{2}}\n",
    "\\end{equation}"
   ]
  },
  {
   "cell_type": "markdown",
   "id": "3ba6d959",
   "metadata": {},
   "source": [
    "# Datat\n",
    "\n",
    "**M = 1 (mm), N = 600**\n",
    "\n",
    "# Real spectrum\n",
    "\n",
    "$ a {\\pm}\\,\\Delta a = 6.6(cm) \\\\$\n",
    "$ d_{Red} = 4.6 (cm) \\, d_{Green} = 3.3 (cm) \\, d_{Purple} = 2.7 (cm) $\n",
    "\n",
    "# Virtual spectrum \n",
    "\n",
    "$ a {\\pm}\\,\\Delta a = 34.2(cm) \\\\$\n",
    "$ d_{Red} = 12.6 (cm) \\, d_{Green} = 9.3 (cm) \\, d_{Purple} = 8.4 (cm) $"
   ]
  },
  {
   "cell_type": "code",
   "execution_count": 17,
   "id": "2369c213",
   "metadata": {},
   "outputs": [],
   "source": [
    "import numpy as np\n",
    "# Real spectrum\n",
    "D_Real = {'Red' : 4.6 , 'Green' : 3.3, 'Purple':2.7}\n",
    "\n",
    "# Virtual spectrum \n",
    "D_Virtual = {'Red' : 12.6 , 'Green' : 9.3, 'Purple': 8.4}"
   ]
  },
  {
   "cell_type": "code",
   "execution_count": 18,
   "id": "8fb985ce",
   "metadata": {},
   "outputs": [
    {
     "name": "stdout",
     "output_type": "stream",
     "text": [
      "The real spectrum Red is 9.529877694802876e-05 and the eroor is 4.692723404021678e-06\n",
      "The real spectrum Green is 7.453559924999299e-05 and the eroor is 4.517309045454121e-06\n",
      "The real spectrum Purple is 6.310547428675069e-05 and the eroor is 4.310449308868845e-06\n"
     ]
    }
   ],
   "source": [
    "# Real spectrum\n",
    "N = 600\n",
    "M = 10 #cm\n",
    "a = 6.6 #cm\n",
    "delta_a = 0.2 #cm\n",
    "delta_d = 0.1 # cm\n",
    "lamda_real = []\n",
    "for i in D_Real.values():\n",
    "    lamda_real.append(i/(M*N*np.sqrt(a**2 + i**2)))\n",
    "    \n",
    "delta_lamda_real = []\n",
    "for i, d in enumerate(D_Real.values()):\n",
    "    delta_lamda_real.append(lamda_real[i]*((delta_d/d)+((d*delta_d + a*delta_a)/(d**2 + a**2))))\n",
    "\n",
    "    \n",
    "for i, color in enumerate(D_Real.keys()):\n",
    "    print(f'The real spectrum {color} is {lamda_real[i]} and the eroor is {delta_lamda_real[i]}')"
   ]
  },
  {
   "cell_type": "code",
   "execution_count": 19,
   "id": "a9f780e9",
   "metadata": {},
   "outputs": [
    {
     "name": "stdout",
     "output_type": "stream",
     "text": [
      "The real spectrum Red is 0.00014763858921335924 and the eroor is 3.0544333332990353e-06\n",
      "The real spectrum Green is 0.00013591785745586957 and the eroor is 3.813002363423211e-06\n",
      "The real spectrum Purple is 0.00013105305647040377 and the eroor is 4.040654925724857e-06\n"
     ]
    }
   ],
   "source": [
    "# Real spectrum\n",
    "N = 600\n",
    "M = 10 #cm\n",
    "a = 6.6 #cm\n",
    "delta_a = 0.2 #cm\n",
    "delta_d = 0.1\n",
    "lamda_virtual = []\n",
    "for i in D_Virtual.values():\n",
    "    lamda_virtual.append(i/(M*N*np.sqrt(a**2 + i**2)))\n",
    "    \n",
    "delta_lamda_virtual = []\n",
    "for i, d in enumerate(D_Virtual.values()):\n",
    "    delta_lamda_virtual.append(lamda_virtual[i]*((delta_d/d)+((d*delta_d + a*delta_a)/(d**2 + a**2))))\n",
    "    \n",
    "for i, color in enumerate(D_Virtual.keys()):\n",
    "    print(f'The real spectrum {color} is {lamda_virtual[i]} and the eroor is {delta_lamda_virtual[i]}')"
   ]
  },
  {
   "cell_type": "markdown",
   "id": "b749364b",
   "metadata": {},
   "source": [
    "# Rydberg\n"
   ]
  },
  {
   "cell_type": "code",
   "execution_count": 20,
   "id": "ee348697",
   "metadata": {},
   "outputs": [],
   "source": [
    "R_y = 1.096e+7\n",
    "n_1 = 2\n",
    "lamda_Rydberg = []\n",
    "for n_2 in [3, 4, 5]:\n",
    "    lamda_Rydberg.append(1/(R_y *(1/n_1**2 - 1/n_2**2)))"
   ]
  },
  {
   "cell_type": "code",
   "execution_count": 21,
   "id": "9ec714fa",
   "metadata": {},
   "outputs": [
    {
     "data": {
      "text/plain": [
       "[6.569343065693431e-07, 4.8661800486618e-07, 4.3448036148766074e-07]"
      ]
     },
     "execution_count": 21,
     "metadata": {},
     "output_type": "execute_result"
    }
   ],
   "source": [
    "lamda_Rydberg"
   ]
  },
  {
   "cell_type": "markdown",
   "id": "bf0ce655",
   "metadata": {},
   "source": [
    "# Conclusion\n",
    "**By performing this test and considering the real spectrum and the virtual spectrum for different colors, which include the wavelengths of Rydberg's relation, we can prove Bohr's principle and conclude that it is true.**\n"
   ]
  },
  {
   "cell_type": "code",
   "execution_count": null,
   "id": "f5e3bcbb",
   "metadata": {},
   "outputs": [],
   "source": []
  },
  {
   "cell_type": "code",
   "execution_count": null,
   "id": "9d40b664",
   "metadata": {},
   "outputs": [],
   "source": []
  }
 ],
 "metadata": {
  "kernelspec": {
   "display_name": "Python 3 (ipykernel)",
   "language": "python",
   "name": "python3"
  },
  "language_info": {
   "codemirror_mode": {
    "name": "ipython",
    "version": 3
   },
   "file_extension": ".py",
   "mimetype": "text/x-python",
   "name": "python",
   "nbconvert_exporter": "python",
   "pygments_lexer": "ipython3",
   "version": "3.9.12"
  }
 },
 "nbformat": 4,
 "nbformat_minor": 5
}
